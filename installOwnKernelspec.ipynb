{
 "cells": [
  {
   "cell_type": "code",
   "execution_count": 1,
   "id": "3021a826-3e3c-4bd0-9407-1cc1b2430617",
   "metadata": {},
   "outputs": [],
   "source": [
    "import json\n",
    "import os\n",
    "import sys\n",
    "import argparse\n",
    "\n",
    "from jupyter_client.kernelspec import KernelSpecManager\n",
    "from IPython.utils.tempdir import TemporaryDirectory\n",
    "\n",
    "kernel_json = {\n",
    "    \"display_name\": \"OpenMS\",\n",
    "    \"argv\": [\n",
    "        \"xcpp\",\n",
    "        \"-f\",\n",
    "        \"{connection_file}\",\n",
    "        \"-std=c++17\",\n",
    "        \"-pthread\",\n",
    "        \"lpthread\"\n",
    "    ],\n",
    "    \"language\": \"C++17\"\n",
    "}\n",
    "\n",
    "def install_my_kernel_spec(user=True, prefix=None):\n",
    "    with TemporaryDirectory() as td:\n",
    "        os.chmod(td, 0o755) # Starts off as 700, not user readable\n",
    "        with open(os.path.join(td, 'kernel.json'), 'w') as f:\n",
    "            json.dump(kernel_json, f, sort_keys=True)\n",
    "        # TODO: Copy resources once they're specified\n",
    "\n",
    "        print('Installing IPython kernel spec with prefix {}'.format(prefix))\n",
    "        KernelSpecManager().install_kernel_spec(td, 'bash', user=user, prefix=prefix)"
   ]
  },
  {
   "cell_type": "code",
   "execution_count": 4,
   "id": "3c7eff28-5e73-453c-908f-a87f762047e6",
   "metadata": {},
   "outputs": [
    {
     "name": "stdout",
     "output_type": "stream",
     "text": [
      "Installing IPython kernel spec with prefix None\n"
     ]
    }
   ],
   "source": [
    "install_my_kernel_spec()"
   ]
  },
  {
   "cell_type": "code",
   "execution_count": 8,
   "id": "069cff99-c0da-4813-b175-012611df28c2",
   "metadata": {},
   "outputs": [
    {
     "name": "stdout",
     "output_type": "stream",
     "text": [
      "['environments.txt']\n"
     ]
    }
   ],
   "source": [
    "print(os.listdir(\"/home/jovyan/.conda\"))"
   ]
  },
  {
   "cell_type": "code",
   "execution_count": 9,
   "id": "da2ec138-432a-466e-8bee-a2f7cb531ba2",
   "metadata": {},
   "outputs": [
    {
     "name": "stdout",
     "output_type": "stream",
     "text": [
      "/srv/conda/envs/notebook\n",
      "\n"
     ]
    }
   ],
   "source": [
    "with open('/home/jovyan/.conda/environments.txt', 'r') as f:\n",
    "    print(f.read())"
   ]
  },
  {
   "cell_type": "code",
   "execution_count": 14,
   "id": "c8e86371-23f6-4c7f-b465-7f6870481870",
   "metadata": {},
   "outputs": [
    {
     "name": "stdout",
     "output_type": "stream",
     "text": [
      "['libicuio.so', 'libk5crypto.so.3.1', 'libgssapi_krb5.so.2', 'tdbc1.1.3', 'libquadmath.so.0', 'libcurl.so.4', 'libtinfo.so', 'libcares.so', 'libformw.so.6', 'tdbcodbc1.1.3', 'libedit.so.0.0.63', 'libsodium.a', 'libtinfow.so.6.3', 'libmenu.so.6', 'libverto.so.0', 'libtinfo.so.6.3', 'krb5', 'libncurses.so.6', 'libkrb5support.so', 'tdbcmysql1.1.3', 'libsqlite3.so', 'libkadm5clnt_mit.so.12', 'libkrad.so.0.0', 'itcl4.2.2', 'libuuid.so', 'libmenuw.so', 'libkadm5clnt.so', 'libbz2.so.1.0.8', 'libkrb5.so.3.3', 'libbz2.so', 'libmenu.so.6.3', 'libssl.so', 'libform.so', 'sqlite3.36.0', 'engines-1.1', 'libatomic.so', 'libmenuw.so.6', 'libicutu.so', 'tclooConfig.sh', 'libsqlite3.so.0.8.6', 'libedit.so.0', 'libsodium.so.23.3.0', 'libffi.so.8', 'libreadline.so', 'libcom_err.so', 'libkrb5support.so.0', 'libkrb5.so', 'libquadmath.so.0.0.0', 'libssl.so.1.1', 'libkdb5.so.10', 'libtinfo.so.6', 'libk5crypto.so.3', 'libncurses++.a', 'libmenu.so', 'libnghttp2.so', 'libhistory.so', 'tkConfig.sh', 'libzmq.so.5.2.4', 'pkgconfig', 'libuv.so', 'libbz2.a', 'libicutest.so', 'libtkstub8.6.a', 'libkeyutils.a', 'libzmq.so', 'libstdc++.so.6', 'libcurl.so.4.7.0', 'libicudata.so', 'libicui18n.so', 'libgssapi_krb5.so', 'libgcc_s.so', 'libssh2.so', 'liblzma.so.5.2.5', 'libatomic.so.1.2.0', 'libffi.a', 'libformw.so.6.3', 'libtinfow.so.6', 'libicuuc.so', 'libcares.so.2', 'libtcl8.6.so', 'libz.so.1.2.11', 'libformw.so', 'libnsl.so', 'cmake', 'libssh2.so.1.0.1', 'libkadm5srv_mit.so.12', 'libuuid.so.1', 'libquadmath.so', 'libncurses.so', 'libform.so.6', 'libkdb5.so.10.0', 'libncursesw.so.6.3', 'libatomic.so.1', 'libuuid.so.1.3.0', 'thread2.8.7', 'libsqlite3.so.0', 'libpython3.so', 'libnsl.so.3', 'libreadline.so.8', 'libpanel.so.6', 'tcl8', 'libstdc++.so.6.0.29', 'node_modules', 'tdbcpostgres1.1.3', 'libkdb5.so', 'libcom_err.so.3', 'libgomp.so.1', 'libnghttp2.so.14.21.2', 'libkadm5clnt_mit.so.12.0', 'libkadm5clnt_mit.so', 'libkadm5srv_mit.so', 'libev.so.4', 'libkeyutils.so.1', 'libcrypto.so', 'liblzma.so', 'libz.so.1', 'libcurl.so', 'libnghttp2.so.14', 'tclConfig.sh', 'libgomp.so.1.0.0', 'libkadm5srv_mit.so.12.0', 'python3.9', 'libuv.so.1', 'libz.so', 'libuv.so.1.0.0', 'libstdc++.so', 'libedit.so', 'libk5crypto.so', 'libncursesw.so', 'libncurses++w.a', 'libffi.so', 'libev.so.4.0.0', 'libmenuw.so.6.3', 'libitm.so.1', 'libpanel.so.6.3', 'libkrad.so.0', 'libzmq.so.5', 'libkadm5srv.so', 'libpanelw.so.6', 'tcl8.6', 'libreadline.so.8.1', 'libkrad.so', 'libnsl.so.3.0.0', 'libpython3.9.so.1.0', 'libffi.so.8.1.0', 'libkeyutils.so', 'libncurses.so.6.3', 'terminfo', 'libgssrpc.so.4', 'libpanelw.so.6.3', 'libform.so.6.3', 'libz.a', 'libcom_err.so.3.0', 'libkrb5support.so.0.1', 'libcrypto.so.1.1', 'libhistory.so.8', 'liblzma.so.5', 'libpython3.9.so', 'libhistory.so.8.1', 'libpanel.so', 'libssh2.so.1', 'libverto.so', 'libgssapi_krb5.so.2.2', 'libsodium.so', 'libverto.so.0.0', 'libgssrpc.so', 'libitm.so', 'libgomp.so', 'libgcc_s.so.1', 'libpanelw.so', 'libkeyutils.so.1.9', 'libitm.so.1.0.0', 'libuv.a', 'libcares.so.2.5.1', 'tk8.6', 'libtclstub8.6.a', 'libkrb5.so.3', 'libncursesw.so.6', 'libbz2.so.1.0', 'libev.so', 'libuuid.a', 'libgssrpc.so.4.2', 'libsodium.so.23', 'libtinfow.so', 'libtk8.6.so', 'icu', 'libxeus-cling.so', 'latin2_and_win1250.so', 'libxcb-glx.so.0', 'libgstrtp-1.0.so.0', 'libQt53DInput.so.5', 'libjpeg.so.9.5.0', 'libcharset.so.1', 'libQt5OpenGL.prl', 'libQt5DataVisualization.so', 'libQt5MultimediaQuick.so', 'latin_and_mic.so', 'libQt5Purchasing.so.5.12', 'libQt5X11Extras.so.5.12.9', 'libQt5WebEngineCore.so.5.12', 'libXau.so.6.0.0', 'libQt5Test.so.5', 'libQt5DeviceDiscoverySupport.a', 'libhdf5_hl_cpp.so.200', 'libQt5QuickShapes.so.5.12', 'libQt5Gamepad.so.5', 'libQt5Designer.so.5', 'libQt5QuickTest.so.5.12.9', 'libQt5Multimedia.so.5.12', 'libQt5QuickShapes.so.5.12.9', 'libpgtypes.a', 'libQt5QuickParticles.so.5.12', 'pgoutput.so', 'libQt5Help.so', 'libecpg.so.6', 'libQt5EdidSupport.a', 'libxeus-cling.so.0.13.0', 'gstreamer-1.0', 'libQt5OpenGL.so', 'libxcb-sync.so.1.0.0', 'libQt5DesignerComponents.so', 'libQt5Scxml.so.5.12', 'libQt5Purchasing.so.5.12.9', 'libQt5MultimediaQuick.so.5.12.9', 'libexpat.so.1', 'libQt5Purchasing.prl', 'libQt5EglSupport.prl', 'libmysqlclient.so.21.2.29', 'libQt5Charts.so.5', 'libQt5Quick.prl', 'libQt5DataVisualization.so.5.12', 'libclangFrontendTool.a', 'libQt5QuickControls2.prl', 'libQt5QuickTemplates2.so', 'libzstd.so.1', 'libgstcheck-1.0.so.0', 'libgstsdp-1.0.so', 'libecpg_compat.so.3.14', 'libQt5WebEngine.so', 'libicuuc.so.69', 'libxcb-xfixes.so.0.0.0', 'libQt5Location.so', 'libcling.so', 'libxerces-c-3.2.so', 'libQt53DLogic.prl', 'libQt5Positioning.so.5.12.9', 'libclangDriver.a', 'libQt5SerialPort.so.5.12.9', 'libQt5WebChannel.so.5', 'libQt5SerialBus.so.5.12.9', 'libQt5Charts.so.5.12', 'libQt5NetworkAuth.so', 'libQt53DInput.prl', 'libxcb-dri3.so', 'libecpg_compat.so', 'libQt53DQuickAnimation.so.5', 'libQt53DLogic.so.5', 'libQt5Widgets.so.5.12', 'libQt53DExtras.so.5', 'libQt53DQuickExtras.prl', 'libvorbisenc.so', 'libclangToolingCore.a', 'libQt5WebSockets.so.5.12', 'libQt5XcbQpa.so.5', 'libdbus-1.a', 'libQt5Qml.prl', 'libQt5WebEngine.so.5', 'libxcb-damage.so', 'libgettextpo.so', 'libQt5WebEngineWidgets.so.5.12.9', 'libicutu.so.69.1', 'libQt5Quick.so', 'libxcb-render.so', 'libQt5DeviceDiscoverySupport.prl', 'libQt53DQuickExtras.so', 'libclang.so.13', 'libiconv.so.2.6.1', 'libxcb-shm.so', 'libQt5OpenGL.so.5.12.9', 'libxcb-xvmc.so', 'libpng16.so', 'libQt5Sql.so.5.12.9', 'libQt5Multimedia.so.5', 'libclangStaticAnalyzerCore.a', 'libgstvideo-1.0.so', 'libQt5SerialPort.so', 'libopus.so', 'utf8_and_euc_tw.so', 'libxml2.so', 'libnssckbi-testlib.so', 'libxkbcommon.so', 'libQt5Location.so.5.12', 'libxcb-composite.so', 'libxkbcommon.so.0', 'libQt5EglFSDeviceIntegration.so.5', 'libevent-2.1.so.6.0.4', 'libxcb-render.so.0.0.0', 'libevent_core.so', 'libpcrecpp.so', 'libsoftokn3.chk', 'libpcreposix.so', 'libnss3.so', 'libQt5EglFsKmsSupport.so', 'libdbus-1.so.3', 'libgstrtp-1.0.so.0.2002.0', 'libevent-2.1.so.6', 'libQt5Script.so.5.12.9', 'libxcb-xtest.so.0.0.0', 'libxcb-randr.so.0', 'libfreetype.a', 'libQt5QuickTemplates2.prl', 'libxcb-res.so.0', 'libmysqlclient.so.21', 'libgstbase-1.0.so.0', 'utf8_and_big5.so', 'libQt5Script.so', 'libjpeg.so', 'libQt5Positioning.so.5', 'libgstapp-1.0.so', 'libQt53DInput.so', 'libcharset.so', 'libhdf5hl_fortran.so.200', 'pgxs', 'dbus-1.0', 'libicuio.so.69.1', 'libQt5WebView.prl', 'libXdmcp.so.6', 'libQt53DExtras.prl', 'libQt5QuickTest.prl', 'libevent_extra.so', 'libQt5OpenGLExtensions.a', 'libfontconfig.so.1', 'libRemarks.so.13', 'liblsan.so', 'libxcb.so', 'libQt5Network.so.5.12.9', 'libxcb-present.so.0', 'libQt53DAnimation.so.5.12.9', 'libQt5PacketProtocol.prl', 'libgmodule-2.0.so.0', 'libgstrtsp-1.0.so', 'libhdf5_hl.so.200', 'libicui18n.so.69.1', 'libQt5NetworkAuth.so.5.12.9', 'libpcre.so.1', 'libQt5ServiceSupport.a', 'libQt5QuickShapes.so.5', 'libfreetype.so', 'libQt53DLogic.so.5.12.9', 'libgstfft-1.0.so', 'libevent_pthreads-2.1.so.6.0.4', 'libogg.so', 'libasprintf.so.0', 'libQt53DCore.so.5.12.9', 'libQt5WebView.so.5', 'libQt53DLogic.so', 'libQt5QuickTest.so', 'libicudata.so.69', 'libcling.so.5', 'libclangIndex.a', 'libQt5RemoteObjects.prl', 'libQt5Core.prl', 'libxkbregistry.so.0.0.0', 'libnsssysinit.so', 'libasan.so.5', 'libQt5QuickControls2.so.5.12.9', 'libQt5WebView.so.5.12', 'libxcb-composite.so.0.0.0', 'libgstriff-1.0.so', 'libgstapp-1.0.so.0.2002.0', 'libQt5Script.so.5', 'libzstd.so', 'libhdf5hl_fortran.so.200.0.1', 'libxcb-dri3.so.0', 'libXdmcp.so', 'libQt5Sql.so.5', 'libQt5Bootstrap.a', 'libQt5Nfc.so.5.12', 'liblapack.so.3', 'libgstapp-1.0.so.0', 'libgstallocators-1.0.so.0.2002.0', 'libQt53DQuick.so.5', 'libQt5EglFSDeviceIntegration.so.5.12', 'libxkbcommon-x11.so', 'libpgcommon.a', 'libopcodes.a', 'libcharset.so.1.0.0', 'utf8_and_euc_cn.so', 'libubsan.so.1.0.0', 'libxcb-glx.so.0.0.0', 'libopenblas.so.0', 'libiconv.a', 'libQt5MultimediaWidgets.so.5', 'libhdf5_cpp.so.200', 'euc_kr_and_mic.so', 'libQt5Location.so.5', 'libhdf5.so.200.1.0', 'libQt5X11Extras.so.5', 'libQt5WebChannel.so.5.12.9', 'libclangCodeGen.a', 'libQt53DCore.so.5.12', 'libxcb-record.so', 'libasound.so', 'libxcb-xkb.so.1.0.0', 'libiconv.so', 'libQt5Concurrent.so.5.12.9', 'libQt5QuickTest.so.5', 'libclangDynamicASTMatchers.a', 'libQt53DQuickInput.so.5', 'libQt5Xml.prl', 'libQt5TextToSpeech.so', 'libxcb-screensaver.so.0', 'libQt5TextToSpeech.prl', 'liblsan.so.0', 'libpcreposix.so.0.0.7', 'libQt5Bluetooth.so.5.12', 'libQt53DQuickRender.so.5.12', 'libQt5RepParser.prl', 'libQt5Gui.so', 'libpq.so.5', 'libQt5DataVisualization.so.5.12.9', 'libxcb-dri2.so.0', 'libQt5Xml.so.5.12.9', 'libgstriff-1.0.so.0', 'libQt5OpenGL.so.5', 'libicui18n.so.69', 'libQt5Purchasing.so', 'libQt53DQuickRender.so', 'libjpeg.so.9', 'libxcb-xinerama.so.0', 'libpng16.a', 'utf8_and_win.so', 'libxcb-dpms.so.0', 'libhdf5_cpp.so', 'libQt5XcbQpa.prl', 'libxcb-xlib.so.0.0.0', 'libQt5Concurrent.so.5', 'libevent_core-2.1.so.6.0.4', 'libgio-2.0.so.0', 'libQt5ThemeSupport.a', 'libQt5EdidSupport.prl', 'libQt5DBus.so.5.12.9', 'libQt5QuickParticles.so', 'libQt5XmlPatterns.so.5', 'libxcb-shape.so', 'libQt5Sql.prl', 'libicutest.so.69', 'libgstrtsp-1.0.so.0.2002.0', 'libQt5QuickControls2.so.5.12', 'libQt5EglSupport.a', 'libQt53DAnimation.so.5', 'libQt5DesignerComponents.so.5', 'libQt5WebView.so.5.12.9', 'libexpat.a', 'libpgtypes.so.3', 'libQt53DQuickAnimation.so.5.12.9', 'libxkbcommon-x11.so.0.0.0', 'libQt5NetworkAuth.so.5', 'libQt5Bluetooth.so', 'libxcb-xinput.so', 'libxcb-dri3.so.0.0.0', 'libicudata.so.69.1', 'libQt53DQuickScene2D.so', 'libQt5Xml.so.5.12', 'libQt53DQuickRender.prl', 'libclangAST.a', 'libgstnet-1.0.so', 'libQt5ScriptTools.so.5.12', 'libQt5Sensors.prl', 'libpgfeutils.a', 'libQt5Location.prl', 'libQt5ScriptTools.so', 'libxcb-xlib.so.0', 'libicuuc.so.69.1', 'libQt53DInput.so.5.12', 'libQt53DQuickInput.prl', 'libQt5FbSupport.prl', 'libQt5GlxSupport.a', 'libOpenMS.so', 'libQt5EglFSDeviceIntegration.so', 'libQt5Script.prl', 'libQt5EglFSDeviceIntegration.so.5.12.9', 'libsoftokn3.so', 'libQt5Help.so.5', 'libpcrecpp.a', 'libnssutil3.so', 'libfreebl3.so', 'libnode.so.102', 'libQt5Designer.prl', 'libxcb-xtest.so', 'libQt53DQuick.prl', 'libjpeg.a', 'libQt5Svg.so', 'libtsan.so.0.0.0', 'libgettextsrc-0.19.8.1.so', 'libevent_openssl-2.1.so.6.0.4', 'libmysqlclient.so', 'libQt53DExtras.so', 'libQt5RemoteObjects.so.5', 'libQt5PrintSupport.so.5', 'libevent_extra-2.1.so.6.0.4', 'libQt53DCore.so', 'libnssdbm3.so', 'utf8_and_sjis2004.so', 'libgstaudio-1.0.so.0.2002.0', 'libQt5MultimediaQuick.prl', 'libubsan.so', 'utf8_and_euc_jp.so', 'libhdf5_fortran.so.200.1.0', 'libQt5Positioning.so.5.12', 'libQt5EglFsKmsSupport.so.5', 'libQt5WebEngineWidgets.so.5', 'libQt5ThemeSupport.prl', 'libfreetype.so.6', 'libQt5QmlDebug.prl', 'libQt53DQuickInput.so', 'libQt5XcbQpa.so.5.12.9', 'utf8_and_euc2004.so', 'libQt5X11Extras.prl', 'libQt5Core.so', 'libQt5QuickShapes.so', 'libhdf5_hl.so', 'libQt5Xml.so', 'libclang.so.5.0', 'libvorbisfile.so.3', 'libQt5VirtualKeyboard.prl', 'libxcb-xvmc.so.0', 'libQt5Gamepad.so', 'libgstfft-1.0.so.0.2002.0', 'libQt5ScriptTools.so.5.12.9', 'libzstd.so.1.5.2', 'libQt5WebSockets.prl', 'libQt5WebSockets.so.5', 'libevent_core-2.1.so.6', 'libgstcontroller-1.0.so.0', 'libQt5Quick.so.5.12.9', 'libQt5Gamepad.so.5.12.9', 'libQt5QuickWidgets.so', 'libclangARCMigrate.a', 'libQt5VirtualKeyboard.so.5', 'libQt5KmsSupport.a', 'libxcb-xv.so.0.0.0', 'libgsttag-1.0.so.0.2002.0', 'libclangParse.a', 'libQt5MultimediaQuick.so.5.12', 'libQt5EglFSDeviceIntegration.prl', 'libQt5PrintSupport.so.5.12', 'libQt5Qml.so.5', 'libclangRewrite.a', 'libQt5QuickTemplates2.so.5.12', 'libclangBasic.a', 'libhdf5.so', 'libQt5WebEngineWidgets.so', 'libQt5Bluetooth.so.5', 'libQt5WebEngineCore.so.5', 'libQt5InputSupport.prl', 'libatopology.so.2', 'libQt5PositioningQuick.so.5', 'euc_cn_and_mic.so', 'libgettextlib.so', 'libpcrecpp.so.0', 'libgstnet-1.0.so.0', 'libxeus.so', 'libQt5Nfc.so.5', 'libgstsdp-1.0.so.0.2002.0', 'libXau.so', 'libQt5Xml.so.5', 'libclangStaticAnalyzerFrontend.a', 'libxcb-dpms.so.0.0.0', 'libQt53DQuickScene2D.so.5.12', 'libopus.so.0.8.0', 'libQt5Gui.prl', 'libQt5Positioning.prl', 'libxcb-xinput.so.0.1.0', 'libexpat.so', 'libgthread-2.0.so.0', 'libgstpbutils-1.0.so', 'libQt5QmlDebug.a', 'libhdf5_hl.so.200.0.1', 'libQt5ServiceSupport.prl', 'libQt5Location.so.5.12.9', 'libQt5QuickParticles.so.5.12.9', 'libhdf5_hl_cpp.so.200.0.1', 'libclangLex.a', 'libQt5Nfc.so', 'libQt5XmlPatterns.so.5.12.9', 'libxcb.so.1', 'libQt5QuickWidgets.prl', 'libclingMetaProcessor.a', 'libclangRewriteFrontend.a', 'utf8_and_uhc.so', 'libcc1.so.0.0.0', 'libQt5XcbQpa.so', 'libxcb-damage.so.0.0.0', 'libQt5WebSockets.so.5.12.9', 'libQt5QmlDevTools.prl', 'libQt5WebChannel.prl', 'libgstaudio-1.0.so', 'libLLVM-13.so', 'libQt5Test.so', 'libQt5QuickWidgets.so.5.12', 'libxcb-xkb.so', 'libQt5SerialBus.so.5.12', 'libQt5WebEngineCore.prl', 'libxcb-xinerama.so', 'libclangTooling.a', 'libgstreamer-1.0.so.0', 'libxcb-composite.so.0', 'libQt5Test.so.5.12', 'libclang.so.5', 'libQt53DExtras.so.5.12', 'libQt5EventDispatcherSupport.a', 'libQt5WebEngine.so.5.12', 'libvorbisenc.so.2', 'libxcb-res.so.0.0.0', 'libclangASTMatchers.a', 'libasan.so.5.0.0', 'libQt5FontDatabaseSupport.a', 'libQt5QuickControls2.so', 'libdbus-1.so.3.24.0', 'gcc', 'libclangAnalysis.a', 'liblapack.so', 'libpcre.a', 'libclangSerialization.a', 'libxcb-res.so', 'libQt5QuickTemplates2.so.5.12.9', 'libxcb-shape.so.0', 'libgettextsrc.so', 'libQt53DQuick.so.5.12.9', 'libxcb-dpms.so', 'libQt53DCore.so.5', 'libgobject-2.0.so.0', 'libQt5X11Extras.so', 'libQt5Scxml.so.5', 'libevent_pthreads.so', 'libpgtypes.so', 'libpcre.so.1.2.13', 'libgstrtsp-1.0.so.0', 'libecpg.so', 'libQt5Widgets.so.5', 'utf8_and_cyrillic.so', 'libxcb-shm.so.0', 'libfontconfig.so.1.13.0', 'libQt5DesignerComponents.prl', 'libQt5Bootstrap.prl', 'libQt5Scxml.so.5.12.9', 'libQt5Sql.so', 'libxcb-xinerama.so.0.0.0', 'libpq.so', 'libevent_openssl-2.1.so.6', 'libgstpbutils-1.0.so.0', 'libasprintf.a', 'libQt5PacketProtocol.a', 'liblsan.so.0.0.0', 'libgstgl-1.0.so.0', 'libQt5TextToSpeech.so.5', 'utf8_and_sjis.so', 'libQt5Designer.so.5.12.9', 'libxkbcommon-x11.so.0', 'libQt53DRender.so.5.12', 'libvorbis.so', 'libQt5Network.so', 'libQt5Widgets.prl', 'libecpg.a', 'libQt53DQuickExtras.so.5', 'libQt5DBus.so.5.12', 'libxcb-randr.so.0.1.0', 'libxcb-xtest.so.0', 'libQt53DLogic.so.5.12', 'libQt5VirtualKeyboard.so', 'euc_tw_and_big5.so', 'bfd-plugins', 'libpng16.so.16', 'libQt5VirtualKeyboard.so.5.12.9', 'libQt5EglFsKmsSupport.so.5.12.9', 'libQt5Sensors.so.5.12', 'libQt53DQuickExtras.so.5.12', 'libQt5WebSockets.so', 'libQt5Quick.so.5', 'libQt53DExtras.so.5.12.9', 'libctf-nobfd.a', 'libxcb-xf86dri.so', 'libQt5Designer.so', 'libQt5Charts.prl', 'libQt5Help.so.5.12.9', 'libQt53DQuickScene2D.prl', 'libQt5QuickControls2.so.5', 'libQt5PositioningQuick.so.5.12.9', 'libQt5Multimedia.so', 'libvorbisfile.so', 'libQt53DRender.prl', 'libQt5WebChannel.so.5.12', 'libglib-2.0.so.0', 'libxcb.so.1.1.0', 'libQt5SerialPort.so.5', 'libQt5FbSupport.a', 'libpcreposix.so.0', 'libQt5Svg.so.5.12.9', 'libclang.so.13.0.1', 'libQt5PositioningQuick.so.5.12', 'gettext', 'libxkbregistry.so.0', 'libclangStaticAnalyzerCheckers.a', 'libclangFormat.a', 'libQt5Sensors.so.5.12.9', 'libglib-2.0.so.0.7000.2', 'libxeus.so.6.1.1', 'libgstcontroller-1.0.so.0.2002.0', 'libQt53DRender.so.5', 'ldscripts', 'libgstreamer-1.0.so', 'libQt5DataVisualization.prl', 'libxcb-screensaver.so.0.0.0', 'libopus.so.0', 'libXau.so.6', 'libQt5PositioningQuick.prl', 'libQt5QuickWidgets.so.5.12.9', 'libQt5RemoteObjects.so.5.12', 'libgstgl-1.0.so', 'libxeus.a', 'libxcb-xv.so', 'libevent_pthreads-2.1.so.6', 'libQt5Help.prl', 'libpgcommon_shlib.a', 'utf8_and_iso8859_1.so', 'libevent_extra-2.1.so.6', 'libQt5AccessibilitySupport.prl', 'libQt5WebEngine.prl', 'libLTO.so.13', 'libcc1.so.0', 'libgstreamer-1.0.so.0.2002.0', 'libQt5RemoteObjects.so', 'libQt53DRender.so', 'libQt5TextToSpeech.so.5.12', 'libgsttag-1.0.so', 'libXdmcp.so.6.0.0', 'libQt53DQuick.so.5.12', 'libQt5VirtualKeyboard.so.5.12', 'libxkbcommon.so.0.0.0', 'libgstbase-1.0.so', 'libgstcontroller-1.0.so', 'libQt5UiTools.prl', 'libvorbisenc.so.2.0.12', 'libQt5Help.so.5.12', 'libQt5QuickTemplates2.so.5', 'libgstrtp-1.0.so', 'libecpg.so.6.14', 'libQt5Qml.so.5.12.9', 'libblas.so', 'libxcb-damage.so.0', 'libtsan.so', 'libgsttag-1.0.so.0', 'libxcb-xinput.so.0', 'libfreebl3.chk', 'libQt5DBus.so', 'libgstallocators-1.0.so', 'libxcb-xfixes.so', 'libQt5MultimediaWidgets.so.5.12.9', 'libQt5WebEngineCore.so.5.12.9', 'libecpg_compat.a', 'utf8_and_johab.so', 'libclingUtils.a', 'libQt5DataVisualization.so.5', 'libQt5PositioningQuick.so', 'libxcb-xf86dri.so.0.0.0', 'clang', 'libQt5Gui.so.5.12.9', 'libgfortran.so', 'libclingUserInterface.a', 'libQt5ScriptTools.prl', 'libQt5NetworkAuth.prl', 'libxcb-dri2.so', 'libnssckbi.so', 'libQt5Bluetooth.prl', 'utf8_and_euc_kr.so', 'libgstaudio-1.0.so.0', 'libfontconfig.so', 'libgstvideo-1.0.so.0.2002.0', 'libQt5RemoteObjects.so.5.12.9', 'libvorbis.so.0.4.9', 'libubsan.so.1', 'libgettextpo.so.0', 'libQt53DQuickAnimation.so', 'libpng.a', 'libQt5MultimediaWidgets.so', 'libasan.so', 'libQt5Concurrent.prl', 'libQt5WebEngineCore.so', 'libssl3.so', 'libctf.a', 'libQt53DQuickScene2D.so.5.12.9', 'libQt5QmlDevTools.a', 'libQt5Svg.so.5', 'libQt5QuickTest.so.5.12', 'libQt5Scxml.prl', 'libQt5PlatformCompositorSupport.prl', 'libclingInterpreter.a', 'libcling.so.5.0.0', 'libatopology.so.2.0.0', 'libQt5Qml.so', 'libQt5Core.so.5.12.9', 'libQt5WebEngineWidgets.prl', 'libQt5DBus.so.5', 'libQt5PrintSupport.so.5.12.9', 'libgstvideo-1.0.so.0', 'libQt53DQuickInput.so.5.12.9', 'libpcre.so', 'libtsan.so.0', 'cyrillic_and_mic.so', 'libQt5OpenGLExtensions.prl', 'libgmodule-2.0.so.0.7000.2', 'libQt5Nfc.prl', 'libQt5Svg.prl', 'utf8_and_iso8859.so', 'libclang.so', 'libblas.so.3', 'preloadable_libintl.so', 'libpcreposix.a', 'libQt5Charts.so.5.12.9', 'libQt53DQuickAnimation.prl', 'libgstgl-1.0.so.0.2002.0', 'libQt53DAnimation.so', 'libQt53DAnimation.so.5.12', 'libpng.so', 'libQt53DQuickAnimation.so.5.12', 'libxcb-render.so.0', 'libQt53DQuickScene2D.so.5', 'libxcb-randr.so', 'libclangToolingRefactor.a', 'libQt5Quick.so.5.12', 'libQt53DQuickInput.so.5.12', 'libQt53DQuickRender.so.5.12.9', 'libgettextpo.so.0.5.4', 'libQt5AccessibilitySupport.a', 'libxcb-xfixes.so.0', 'libQt5EventDispatcherSupport.prl', 'libxcb-xkb.so.1', 'libQt5Core.so.5', 'libasound.so.2.0.0', 'libQt5WebEngine.so.5.12.9', 'libQt5Concurrent.so.5.12', 'libQt5SerialPort.so.5.12', 'libopenblasp-r0.3.20.so', 'libQt5DesignerComponents.so.5.12.9', 'libQt5PrintSupport.prl', 'libQt5FontDatabaseSupport.prl', 'libQt5SerialBus.so.5', 'libQt53DQuick.so', 'libpq.a', 'libQt5KmsSupport.prl', 'libQt5WebChannel.so', 'libQt5EglFsKmsSupport.so.5.12', 'dict_snowball.so', 'plpgsql.so', 'libxcb-record.so.0', 'libQt5QuickWidgets.so.5', 'libxcb-xf86dri.so.0', 'libhdf5.settings', 'libQt5Designer.so.5.12', 'liblz4.so.1.9.3', 'libQt5Network.so.5.12', 'libxcb-xv.so.0', 'libQt5Scxml.so', 'libQt5Qml.so.5.12', 'libQt5Multimedia.so.5.12.9', 'libQt5UiPlugin.prl', 'libQt5Positioning.so', 'libQt5WebView.so', 'libevent.so', 'libQt5X11Extras.so.5.12', 'libxeus.so.6', 'libxcb-xvmc.so.0.0.0', 'libgstnet-1.0.so.0.2002.0', 'libogg.so.0.8.4', 'libQt5GlxSupport.prl', 'libQt5Purchasing.so.5', 'libQt5UiTools.a', 'libpgport_shlib.a', 'libgstbase-1.0.so.0.2002.0', 'libQt5QuickParticles.so.5', 'libQt5QuickParticles.prl', 'libplds4.so', 'libcharset.a', 'libQt5Bluetooth.so.5.12.9', 'libQt5NetworkAuth.so.5.12', 'libQt5TextToSpeech.so.5.12.9', 'libxcb-dri2.so.0.0.0', 'libpgport.a', 'libcblas.so.3', 'libpugixml.a', 'libQt5Sensors.so', 'libxml2.so.2.9.12', 'libQt53DQuickExtras.so.5.12.9', 'libvorbisfile.so.3.3.8', 'libQt5Widgets.so.5.12.9', 'libclangSema.a', 'libxcb-sync.so.1', 'libxeus-cling.so.0', 'libbfd.a', 'libecpg_compat.so.3', 'libicuio.so.69', 'libxcb-shm.so.0.0.0', 'euc_jp_and_sjis.so', 'libgstsdp-1.0.so.0', 'libQt5Svg.so.5.12', 'libQt5WebEngineWidgets.so.5.12', 'libpgtypes.so.3.14', 'libiconv.so.2', 'libfontconfig.a', 'utf8_and_gb18030.so', 'libplc4.so', 'libcc1.so', 'liblz4.so', 'libhdf5_fortran.so', 'utf8_and_gbk.so', 'libxcb-shape.so.0.0.0', 'libQt5PrintSupport.so', 'libQt5XcbQpa.so.5.12', 'libhdf5_hl_cpp.so', 'liblz4.so.1', 'libxerces-c.so', 'libevent_openssl.so', 'libicutu.so.69', 'girepository-1.0', 'libQt5Gamepad.prl', 'libgstpbutils-1.0.so.0.2002.0', 'libQt5DesignerComponents.so.5.12', 'libQt5Network.so.5', 'libOpenSwathAlgo.so', 'libasound.so.2', 'libQt5Multimedia.prl', 'libpqwalreceiver.so', 'libnspr4.so', 'libxcb-sync.so', 'libQt5Script.so.5.12', 'euc2004_sjis2004.so', 'libfreetype.so.6.17.4', 'libQt5ScriptTools.so.5', 'libclangFrontend.a', 'libQt5Gui.so.5.12', 'libgfortran.so.5.0.0', 'libnssdbm3.chk', 'libQt5XmlPatterns.so', 'libQt5Widgets.so', 'libQt5Concurrent.so', 'libgstcheck-1.0.so.0.2002.0', 'libdbus-1.so', 'libhdf5.so.200', 'libgstallocators-1.0.so.0', 'libQt5Charts.so', 'libgfortran.so.5', 'libatopology.so', 'libQt5InputSupport.a', 'libQt53DCore.prl', 'libcrmf.a', 'libxcb-screensaver.so', 'libgettextpo.a', 'libgstcheck-1.0.so', 'libasprintf.so.0.0.0', 'libxcb-glx.so', 'libsmime3.so', 'libQt5MultimediaQuick.so.5', 'xml2Conf.sh', 'libQt5PlatformCompositorSupport.a', 'libQt5Test.so.5.12.9', 'libQt5SerialBus.so', 'libQt5Sensors.so.5', 'libQt5Network.prl', 'libpcrecpp.so.0.0.2', 'libQt5Nfc.so.5.12.9', 'libgobject-2.0.so.0.7000.2', 'libxcb-present.so.0.0.0', 'libxkbregistry.so', 'libxcb-present.so', 'libgthread-2.0.so.0.7000.2', 'libQt5OpenGL.so.5.12', 'libxcb-record.so.0.0.0', 'libvorbis.so.0', 'libclangEdit.a', 'libQt53DRender.so.5.12.9', 'libexpat.so.1.8.8', 'libQt53DQuickRender.so.5', 'libhdf5hl_fortran.so', 'libogg.so.0', 'libQt53DAnimation.prl', 'libgio-2.0.so.0.7000.2', 'libQt5Gui.so.5', 'libhdf5_hl_fortran.so', 'libicutest.so.69.1', 'libQt5SerialBus.prl', 'libpq.so.5.14', 'libQt5Gamepad.so.5.12', 'libstdc++.so.6.0.28-gdb.py', 'libQt5EglFsKmsSupport.prl', 'libgstriff-1.0.so.0.2002.0', 'libxml2.so.2', 'libQt5MultimediaWidgets.so.5.12', 'libcblas.so', 'libQt5SerialPort.prl', 'libQt5XmlPatterns.so.5.12', 'libgettextlib-0.19.8.1.so', 'libQt5DBus.prl', 'libgstfft-1.0.so.0', 'libhdf5_cpp.so.200.1.0', 'libQt5Sql.so.5.12', 'libQt5Test.prl', 'libasprintf.so', 'libQt5XmlPatterns.prl', 'libQt5Core.so.5.12', 'libpng16.so.16.37.0', 'libQt5QuickShapes.prl', 'libQt53DInput.so.5.12.9', 'libQt5MultimediaWidgets.prl', 'libfreeblpriv3.so', 'libhdf5_fortran.so.200', 'libfreeblpriv3.chk']\n"
     ]
    }
   ],
   "source": [
    "print(os.listdir(\"/srv/conda/envs/notebook/lib\"))"
   ]
  },
  {
   "cell_type": "code",
   "execution_count": null,
   "id": "4c001ace-caa5-448a-9909-262b09e9a9e9",
   "metadata": {},
   "outputs": [],
   "source": []
  }
 ],
 "metadata": {
  "kernelspec": {
   "display_name": "Python 3",
   "language": "python",
   "name": "python3"
  },
  "language_info": {
   "codemirror_mode": {
    "name": "ipython",
    "version": 3
   },
   "file_extension": ".py",
   "mimetype": "text/x-python",
   "name": "python",
   "nbconvert_exporter": "python",
   "pygments_lexer": "ipython3",
   "version": "3.9.13"
  }
 },
 "nbformat": 4,
 "nbformat_minor": 5
}
