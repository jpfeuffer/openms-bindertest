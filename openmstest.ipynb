{
 "cells": [
  {
   "cell_type": "code",
   "execution_count": 2,
   "id": "f157eec9-cf62-4fb6-808a-6d9efc28a074",
   "metadata": {},
   "outputs": [
    {
     "name": "stderr",
     "output_type": "stream",
     "text": [
      "cling::DynamicLibraryManager::loadLibrary(): libsvm.so.2: cannot open shared object file: No such file or directory\n"
     ]
    }
   ],
   "source": [
    "#pragma cling add_include_path(\"/srv/conda/envs/notebook/include/OpenMS\")\n",
    "\n",
    "#pragma cling add_library_path(\"/srv/conda/envs/notebook/lib\")\n",
    "\n",
    "#pragma cling load(\"libOpenMS.so\")"
   ]
  },
  {
   "cell_type": "code",
   "execution_count": 1,
   "id": "2c37f3ae-9f4e-4df4-bd23-a6be21d5996b",
   "metadata": {},
   "outputs": [
    {
     "name": "stderr",
     "output_type": "stream",
     "text": [
      "In file included from input_line_7:1:\n",
      "In file included from /srv/conda/envs/notebook/include/OpenMS/CHEMISTRY/AASequence.h:37:\n",
      "In file included from /srv/conda/envs/notebook/include/OpenMS/CHEMISTRY/EmpiricalFormula.h:42:\n",
      "In file included from /srv/conda/envs/notebook/include/OpenMS/CONCEPT/Types.h:37:\n",
      "/srv/conda/envs/notebook/include/OpenMS/config.h:54:10: fatal error: 'boost/current_function.hpp' file not found\n",
      "#include <boost/current_function.hpp>\n",
      "         ^~~~~~~~~~~~~~~~~~~~~~~~~~~~\n"
     ]
    },
    {
     "ename": "Interpreter Error",
     "evalue": "",
     "output_type": "error",
     "traceback": [
      "Interpreter Error: "
     ]
    }
   ],
   "source": [
    "#include <OpenMS/CHEMISTRY/AASequence.h>\n",
    "#include <iostream>\n",
    "\n",
    "using namespace OpenMS;\n",
    "using namespace std;\n",
    "\n",
    "// generate AASequence object from String\n",
    "const String s = \"DEFIANGER\";\n",
    "AASequence peptide1 = AASequence::fromString(s);\n",
    "\n",
    "// generate AASequence object from string literal\n",
    "AASequence peptide2 = AASequence::fromString(\"PEPTIDER\");\n",
    "\n",
    "// extract prefix and suffix\n",
    "AASequence prefix(peptide1.getPrefix(2));\n",
    "AASequence suffix(peptide1.getSuffix(3));\n",
    "cout << peptide1.toString() << \" \"\n",
    "   << prefix << \" \"\n",
    "   << suffix << endl;\n",
    "\n",
    "// create chemically modified peptide\n",
    "AASequence peptide_meth_ox = AASequence::fromString(\"PEPTIDESEKUEM(Oxidation)CER\");\n",
    "cout << peptide_meth_ox.toString() << \" \"\n",
    "   << peptide_meth_ox.toUnmodifiedString()\n",
    "   << endl;\n",
    "\n",
    "// mass of the full, uncharged peptide\n",
    "double peptide_mass_mono = peptide_meth_ox.getMonoWeight();\n",
    "cout << \"Monoisotopic mass of the uncharged, full peptide: \" << peptide_mass_mono << endl;\n",
    "\n",
    "double peptide_mass_avg = peptide_meth_ox.getAverageWeight();\n",
    "cout << \"Average mass of the uncharged, full peptide: \" << peptide_mass_avg << endl;\n",
    "\n",
    "// mass of the 2+ charged b-ion with the given sequence\n",
    "double ion_mass_2plus = peptide_meth_ox.getMonoWeight(Residue::BIon, 2);\n",
    "cout << \"Mass of the doubly positively charged b-ion: \" << ion_mass_2plus << endl;\n",
    "\n",
    "// mass-to-charge ratio (m/z) of the 2+ charged b-ion and full peptide with the given sequence\n",
    "cout << \"Mass-to-charge of the doubly positively charged b-ion: \" << peptide_meth_ox.getMZ(2, Residue::BIon) << endl;\n",
    "cout << \"Mass-to-charge of the doubly positively charged peptide: \" << peptide_meth_ox.getMZ(2) << endl;\n"
   ]
  },
  {
   "cell_type": "code",
   "execution_count": null,
   "id": "553aed3a-eba2-4405-8dd1-ca533575be4f",
   "metadata": {},
   "outputs": [],
   "source": []
  }
 ],
 "metadata": {
  "kernelspec": {
   "display_name": "C++17",
   "language": "C++17",
   "name": "xcpp17"
  },
  "language_info": {
   "codemirror_mode": "text/x-c++src",
   "file_extension": ".cpp",
   "mimetype": "text/x-c++src",
   "name": "c++",
   "version": "17"
  }
 },
 "nbformat": 4,
 "nbformat_minor": 5
}
