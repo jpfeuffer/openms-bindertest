{
 "cells": [
  {
   "cell_type": "code",
   "execution_count": 1,
   "id": "f157eec9-cf62-4fb6-808a-6d9efc28a074",
   "metadata": {},
   "outputs": [
    {
     "name": "stderr",
     "output_type": "stream",
     "text": [
      "cling::DynamicLibraryManager::loadLibrary(): libsvm.so.2: cannot open shared object file: No such file or directory\n"
     ]
    }
   ],
   "source": [
    "#pragma cling add_include_path(\"/srv/conda/envs/notebook/include/OpenMS\")\n",
    "\n",
    "#pragma cling add_library_path(\"/srv/conda/envs/notebook/lib\")\n",
    "\n",
    "#pragma cling load(\"libOpenMS.so\")"
   ]
  },
  {
   "cell_type": "code",
   "execution_count": null,
   "id": "2c37f3ae-9f4e-4df4-bd23-a6be21d5996b",
   "metadata": {},
   "outputs": [],
   "source": []
  }
 ],
 "metadata": {
  "kernelspec": {
   "display_name": "OpenMS",
   "language": "C++17",
   "name": "bash"
  },
  "language_info": {
   "codemirror_mode": "text/x-c++src",
   "file_extension": ".cpp",
   "mimetype": "text/x-c++src",
   "name": "c++",
   "version": "17"
  }
 },
 "nbformat": 4,
 "nbformat_minor": 5
}
